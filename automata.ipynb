{
 "cells": [
  {
   "cell_type": "markdown",
   "metadata": {},
   "source": [
    "# Конечные автоматы \n",
    "\n",
    "Документация: \n",
    "https://pypi.org/project/automata-lib/"
   ]
  },
  {
   "cell_type": "markdown",
   "metadata": {},
   "source": [
    "## Автомат"
   ]
  },
  {
   "cell_type": "code",
   "execution_count": 4,
   "metadata": {},
   "outputs": [],
   "source": [
    "from automata.fa.dfa import DFA\n",
    "# DFA which matches all binary strings ending in an odd number of '1's\n",
    "dfa = DFA(\n",
    "    states={'q0', 'q1', 'q2'},   # состояния\n",
    "    input_symbols={'0', '1'},    # входной алфавит\n",
    "    transitions={\n",
    "        'q0': {'0': 'q0', '1': 'q1'},  # переходы из состояния q0 в другие, в зависимости от входного символа\n",
    "        'q1': {'0': 'q0', '1': 'q2'},\n",
    "        'q2': {'0': 'q2', '1': 'q1'}\n",
    "    },\n",
    "    initial_state='q0', # начальное состояние\n",
    "    final_states={'q1'}  # конечное состояние\n",
    ")"
   ]
  },
  {
   "cell_type": "code",
   "execution_count": 5,
   "metadata": {},
   "outputs": [
    {
     "data": {
      "text/plain": [
       "'q1'"
      ]
     },
     "execution_count": 5,
     "metadata": {},
     "output_type": "execute_result"
    }
   ],
   "source": [
    "dfa.read_input('01')  # returns 'q1'\n",
    "\n",
    "# dfa.read_input('011')  # raises RejectionException\n"
   ]
  },
  {
   "cell_type": "code",
   "execution_count": null,
   "metadata": {},
   "outputs": [],
   "source": [
    "# установка пакетов в mybinder\n",
    "!pip3 install automata-lib"
   ]
  },
  {
   "cell_type": "markdown",
   "metadata": {},
   "source": [
    "## Автомат с магазинной памятью"
   ]
  },
  {
   "cell_type": "code",
   "execution_count": 2,
   "metadata": {},
   "outputs": [],
   "source": [
    "from automata.pda.dpda import DPDA\n",
    "import automata.base.exceptions as exceptions\n",
    "\n",
    "# PDA -- pushdown automata -- асбстрактный класс описывающий автомат с магазинной памятью.\n",
    "# DPDA -- deterministic PDA -- реализация PDA \n",
    "\n",
    "dpda = DPDA(\n",
    "    # состояния\n",
    "    states={'q0', 'q1', 'q2', 'q3'},\n",
    "    \n",
    "    # входной алфавит\n",
    "    input_symbols={'a', 'b'},\n",
    "    \n",
    "    # алфавит магазина\n",
    "    stack_symbols={'0', '1'},\n",
    "    \n",
    "    # операции\n",
    "    transitions={\n",
    "        'q0': {\n",
    "            'a': {'0': ('q1', ('1', '0'))}  # transition pushes '1' to stack\n",
    "        },\n",
    "        'q1': {\n",
    "            'a': {'1': ('q1', ('1', '1'))},\n",
    "            'b': {'1': ('q2', '')}  # transition pops from stack\n",
    "        },\n",
    "        'q2': {\n",
    "            'b': {'1': ('q2', '')},\n",
    "            '': {'0': ('q3', ('0',))}  # transition does not change stack\n",
    "        }\n",
    "    },\n",
    "    \n",
    "    # начальное состояние\n",
    "    initial_state='q0',\n",
    "    \n",
    "    # начальное состояние магазина\n",
    "    initial_stack_symbol='0',\n",
    "    \n",
    "    # конечное состояние\n",
    "    final_states={'q3'},\n",
    "    \n",
    "    \n",
    "    acceptance_mode='final_state'\n",
    ")"
   ]
  },
  {
   "cell_type": "code",
   "execution_count": 3,
   "metadata": {},
   "outputs": [
    {
     "name": "stdout",
     "output_type": "stream",
     "text": [
      ">ab\n",
      "PDAConfiguration('q3', '', PDAStack('0',))\n"
     ]
    }
   ],
   "source": [
    "try:\n",
    "    s = input(\"Ввкдите входные символы >\")\n",
    "    print(dpda.read_input( s ))\n",
    "    \n",
    "except exceptions.RejectionException as e:\n",
    "    print('RejectionException')"
   ]
  },
  {
   "cell_type": "code",
   "execution_count": null,
   "metadata": {},
   "outputs": [],
   "source": []
  }
 ],
 "metadata": {
  "kernelspec": {
   "display_name": "Python 3",
   "language": "python",
   "name": "python3"
  },
  "language_info": {
   "codemirror_mode": {
    "name": "ipython",
    "version": 3
   },
   "file_extension": ".py",
   "mimetype": "text/x-python",
   "name": "python",
   "nbconvert_exporter": "python",
   "pygments_lexer": "ipython3",
   "version": "3.6.9"
  }
 },
 "nbformat": 4,
 "nbformat_minor": 2
}
